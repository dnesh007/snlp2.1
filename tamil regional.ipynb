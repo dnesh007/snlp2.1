{
 "cells": [
  {
   "cell_type": "code",
   "execution_count": 6,
   "metadata": {},
   "outputs": [
    {
     "ename": "RuntimeError",
     "evalue": "This event loop is already running",
     "output_type": "error",
     "traceback": [
      "\u001b[1;31m---------------------------------------------------------------------------\u001b[0m",
      "\u001b[1;31mRuntimeError\u001b[0m                              Traceback (most recent call last)",
      "\u001b[1;32m<ipython-input-6-2b3dd1423cc4>\u001b[0m in \u001b[0;36m<module>\u001b[1;34m\u001b[0m\n\u001b[0;32m      1\u001b[0m \u001b[1;32mfrom\u001b[0m \u001b[0minltk\u001b[0m\u001b[1;33m.\u001b[0m\u001b[0minltk\u001b[0m \u001b[1;32mimport\u001b[0m \u001b[0msetup\u001b[0m\u001b[1;33m\u001b[0m\u001b[1;33m\u001b[0m\u001b[0m\n\u001b[1;32m----> 2\u001b[1;33m \u001b[0msetup\u001b[0m\u001b[1;33m(\u001b[0m\u001b[1;34m'ta'\u001b[0m\u001b[1;33m)\u001b[0m\u001b[1;33m\u001b[0m\u001b[1;33m\u001b[0m\u001b[0m\n\u001b[0m",
      "\u001b[1;32m~\\Anaconda3\\lib\\site-packages\\inltk\\inltk.py\u001b[0m in \u001b[0;36msetup\u001b[1;34m(language_code)\u001b[0m\n\u001b[0;32m     26\u001b[0m     \u001b[0mloop\u001b[0m \u001b[1;33m=\u001b[0m \u001b[0masyncio\u001b[0m\u001b[1;33m.\u001b[0m\u001b[0mget_event_loop\u001b[0m\u001b[1;33m(\u001b[0m\u001b[1;33m)\u001b[0m\u001b[1;33m\u001b[0m\u001b[1;33m\u001b[0m\u001b[0m\n\u001b[0;32m     27\u001b[0m     \u001b[0mtasks\u001b[0m \u001b[1;33m=\u001b[0m \u001b[1;33m[\u001b[0m\u001b[0masyncio\u001b[0m\u001b[1;33m.\u001b[0m\u001b[0mensure_future\u001b[0m\u001b[1;33m(\u001b[0m\u001b[0mdownload\u001b[0m\u001b[1;33m(\u001b[0m\u001b[0mlanguage_code\u001b[0m\u001b[1;33m)\u001b[0m\u001b[1;33m)\u001b[0m\u001b[1;33m]\u001b[0m\u001b[1;33m\u001b[0m\u001b[1;33m\u001b[0m\u001b[0m\n\u001b[1;32m---> 28\u001b[1;33m     \u001b[0mlearn\u001b[0m \u001b[1;33m=\u001b[0m \u001b[0mloop\u001b[0m\u001b[1;33m.\u001b[0m\u001b[0mrun_until_complete\u001b[0m\u001b[1;33m(\u001b[0m\u001b[0masyncio\u001b[0m\u001b[1;33m.\u001b[0m\u001b[0mgather\u001b[0m\u001b[1;33m(\u001b[0m\u001b[1;33m*\u001b[0m\u001b[0mtasks\u001b[0m\u001b[1;33m)\u001b[0m\u001b[1;33m)\u001b[0m\u001b[1;33m[\u001b[0m\u001b[1;36m0\u001b[0m\u001b[1;33m]\u001b[0m\u001b[1;33m\u001b[0m\u001b[1;33m\u001b[0m\u001b[0m\n\u001b[0m\u001b[0;32m     29\u001b[0m     \u001b[0mloop\u001b[0m\u001b[1;33m.\u001b[0m\u001b[0mclose\u001b[0m\u001b[1;33m(\u001b[0m\u001b[1;33m)\u001b[0m\u001b[1;33m\u001b[0m\u001b[1;33m\u001b[0m\u001b[0m\n\u001b[0;32m     30\u001b[0m \u001b[1;33m\u001b[0m\u001b[0m\n",
      "\u001b[1;32m~\\Anaconda3\\lib\\asyncio\\base_events.py\u001b[0m in \u001b[0;36mrun_until_complete\u001b[1;34m(self, future)\u001b[0m\n\u001b[0;32m    569\u001b[0m         \u001b[0mfuture\u001b[0m\u001b[1;33m.\u001b[0m\u001b[0madd_done_callback\u001b[0m\u001b[1;33m(\u001b[0m\u001b[0m_run_until_complete_cb\u001b[0m\u001b[1;33m)\u001b[0m\u001b[1;33m\u001b[0m\u001b[1;33m\u001b[0m\u001b[0m\n\u001b[0;32m    570\u001b[0m         \u001b[1;32mtry\u001b[0m\u001b[1;33m:\u001b[0m\u001b[1;33m\u001b[0m\u001b[1;33m\u001b[0m\u001b[0m\n\u001b[1;32m--> 571\u001b[1;33m             \u001b[0mself\u001b[0m\u001b[1;33m.\u001b[0m\u001b[0mrun_forever\u001b[0m\u001b[1;33m(\u001b[0m\u001b[1;33m)\u001b[0m\u001b[1;33m\u001b[0m\u001b[1;33m\u001b[0m\u001b[0m\n\u001b[0m\u001b[0;32m    572\u001b[0m         \u001b[1;32mexcept\u001b[0m\u001b[1;33m:\u001b[0m\u001b[1;33m\u001b[0m\u001b[1;33m\u001b[0m\u001b[0m\n\u001b[0;32m    573\u001b[0m             \u001b[1;32mif\u001b[0m \u001b[0mnew_task\u001b[0m \u001b[1;32mand\u001b[0m \u001b[0mfuture\u001b[0m\u001b[1;33m.\u001b[0m\u001b[0mdone\u001b[0m\u001b[1;33m(\u001b[0m\u001b[1;33m)\u001b[0m \u001b[1;32mand\u001b[0m \u001b[1;32mnot\u001b[0m \u001b[0mfuture\u001b[0m\u001b[1;33m.\u001b[0m\u001b[0mcancelled\u001b[0m\u001b[1;33m(\u001b[0m\u001b[1;33m)\u001b[0m\u001b[1;33m:\u001b[0m\u001b[1;33m\u001b[0m\u001b[1;33m\u001b[0m\u001b[0m\n",
      "\u001b[1;32m~\\Anaconda3\\lib\\asyncio\\base_events.py\u001b[0m in \u001b[0;36mrun_forever\u001b[1;34m(self)\u001b[0m\n\u001b[0;32m    524\u001b[0m         \u001b[0mself\u001b[0m\u001b[1;33m.\u001b[0m\u001b[0m_check_closed\u001b[0m\u001b[1;33m(\u001b[0m\u001b[1;33m)\u001b[0m\u001b[1;33m\u001b[0m\u001b[1;33m\u001b[0m\u001b[0m\n\u001b[0;32m    525\u001b[0m         \u001b[1;32mif\u001b[0m \u001b[0mself\u001b[0m\u001b[1;33m.\u001b[0m\u001b[0mis_running\u001b[0m\u001b[1;33m(\u001b[0m\u001b[1;33m)\u001b[0m\u001b[1;33m:\u001b[0m\u001b[1;33m\u001b[0m\u001b[1;33m\u001b[0m\u001b[0m\n\u001b[1;32m--> 526\u001b[1;33m             \u001b[1;32mraise\u001b[0m \u001b[0mRuntimeError\u001b[0m\u001b[1;33m(\u001b[0m\u001b[1;34m'This event loop is already running'\u001b[0m\u001b[1;33m)\u001b[0m\u001b[1;33m\u001b[0m\u001b[1;33m\u001b[0m\u001b[0m\n\u001b[0m\u001b[0;32m    527\u001b[0m         \u001b[1;32mif\u001b[0m \u001b[0mevents\u001b[0m\u001b[1;33m.\u001b[0m\u001b[0m_get_running_loop\u001b[0m\u001b[1;33m(\u001b[0m\u001b[1;33m)\u001b[0m \u001b[1;32mis\u001b[0m \u001b[1;32mnot\u001b[0m \u001b[1;32mNone\u001b[0m\u001b[1;33m:\u001b[0m\u001b[1;33m\u001b[0m\u001b[1;33m\u001b[0m\u001b[0m\n\u001b[0;32m    528\u001b[0m             raise RuntimeError(\n",
      "\u001b[1;31mRuntimeError\u001b[0m: This event loop is already running"
     ]
    },
    {
     "name": "stdout",
     "output_type": "stream",
     "text": [
      "Done!\n"
     ]
    }
   ],
   "source": [
    "from inltk.inltk import setup\n",
    "setup('ta')"
   ]
  },
  {
   "cell_type": "code",
   "execution_count": 7,
   "metadata": {},
   "outputs": [],
   "source": [
    "from inltk.inltk import tokenize"
   ]
  },
  {
   "cell_type": "code",
   "execution_count": 9,
   "metadata": {},
   "outputs": [
    {
     "data": {
      "text/plain": [
       "['▁பதி',\n",
       " 'னா',\n",
       " 'றா',\n",
       " 'ம்',\n",
       " '▁நூற்றாண்டு',\n",
       " '▁முதல்',\n",
       " '▁இன்று',\n",
       " '▁வரை',\n",
       " '▁கிரிக்கெட்',\n",
       " '▁விளையாட்டு',\n",
       " '▁எல்லா',\n",
       " 'ரும்',\n",
       " '▁அறிந்த',\n",
       " '▁வரலாற்று',\n",
       " 'ப்',\n",
       " '▁பாதை',\n",
       " 'யைக்',\n",
       " '▁கொண்டுள்ளது',\n",
       " '.',\n",
       " '▁18',\n",
       " '44',\n",
       " '▁ஆம்',\n",
       " '▁ஆண்டு',\n",
       " '▁முதல்',\n",
       " '▁சர்வதேச',\n",
       " '▁கிரிக்கெட்',\n",
       " '▁போட்டிகள்',\n",
       " '▁நடத்தப்பட்ட',\n",
       " 'ு',\n",
       " '▁வந்த',\n",
       " 'ாலும்']"
      ]
     },
     "execution_count": 9,
     "metadata": {},
     "output_type": "execute_result"
    }
   ],
   "source": [
    "tamil_text = \"\"\"பதினாறாம் நூற்றாண்டு முதல் இன்று வரை கிரிக்கெட் விளையாட்டு எல்லாரும் அறிந்த வரலாற்றுப் பாதையைக் கொண்டுள்ளது. 1844 ஆம் ஆண்டு முதல் சர்வதேச கிரிக்கெட் போட்டிகள் நடத்தப்பட்டு வந்தாலும்\"\"\"\n",
    "tokenize(tamil_text, \"ta\")"
   ]
  },
  {
   "cell_type": "code",
   "execution_count": 10,
   "metadata": {},
   "outputs": [
    {
     "data": {
      "text/html": [],
      "text/plain": [
       "<IPython.core.display.HTML object>"
      ]
     },
     "metadata": {},
     "output_type": "display_data"
    },
    {
     "data": {
      "text/html": [],
      "text/plain": [
       "<IPython.core.display.HTML object>"
      ]
     },
     "metadata": {},
     "output_type": "display_data"
    },
    {
     "name": "stdout",
     "output_type": "stream",
     "text": [
      "[array([-0.659197,  0.215923,  0.302543,  0.350255, ..., -0.390976,  0.204347,  0.212936,  0.30015 ], dtype=float32), array([-0.080667, -0.30512 ,  0.283317,  0.150876, ..., -0.549122, -0.847903,  0.110469,  0.040425], dtype=float32), array([ 0.468188, -0.364217,  0.044203,  0.865118, ..., -0.37681 , -2.068581,  0.199054, -0.179075], dtype=float32), array([ 0.039039,  0.240042,  0.394803,  0.773325, ..., -0.417071, -0.350052,  0.161392,  0.148278], dtype=float32), array([ 0.230289, -0.183349, -0.813504,  0.086486, ..., -0.67144 , -1.192622,  0.219474, -0.085538], dtype=float32), array([ 0.03911 , -0.164002,  0.819677, -0.087105, ..., -0.508193, -0.398217, -0.09395 ,  0.101915], dtype=float32), array([-0.405182, -0.185088, -0.121141, -0.0918  , ..., -0.720653, -0.699258,  0.281393,  0.274069], dtype=float32), array([-0.351553, -0.492345,  0.923717,  0.796101, ..., -0.85097 , -0.22231 , -0.29367 ,  0.375016], dtype=float32), array([ 0.384365, -0.027562,  0.442327, -0.091913, ..., -0.430375,  0.249706,  0.213641,  0.250542], dtype=float32), array([-0.528121, -0.199802,  0.081432,  0.112041, ..., -0.486555, -0.115159,  0.713168,  0.605923], dtype=float32), array([-0.580595, -0.152156,  0.173624,  0.522255, ..., -0.36483 , -0.264205,  1.253678,  0.805236], dtype=float32), array([-0.432126,  0.365728,  0.291613,  0.117918, ..., -0.125957,  0.9432  , -0.109423,  0.138839], dtype=float32), array([-0.18901 , -0.105703,  1.056539,  0.306066, ..., -0.568874,  0.037869, -0.092152, -0.065924], dtype=float32), array([-0.428687, -0.329145, -0.1822  , -0.12306 , ..., -0.458295,  0.381579, -0.502482,  0.689475], dtype=float32)]\n",
      "shape: (400,)\n"
     ]
    }
   ],
   "source": [
    "from inltk.inltk import get_embedding_vectors\n",
    "\n",
    "# get embedding for input words\n",
    "vectors = get_embedding_vectors(\"கிரிக்கெட் எங்கு ஆரம்பித்தது, யாரால் தோற்றுவிக்கப்பட்டது என்பதற்கு ஆதாரம் இல்லை \", \"ta\")\n",
    "\n",
    "print(vectors)\n",
    "# print shape of the first word\n",
    "print(\"shape:\", vectors[0].shape)"
   ]
  },
  {
   "cell_type": "code",
   "execution_count": 11,
   "metadata": {},
   "outputs": [],
   "source": [
    "import sys\n",
    "from indicnlp import common\n",
    "\n",
    "# The path to the local git repo for Indic NLP library\n",
    "INDIC_NLP_LIB_HOME=r\"indic_nlp_library\"\n",
    "\n",
    "# The path to the local git repo for Indic NLP Resources\n",
    "INDIC_NLP_RESOURCES=r\"indic_nlp_resources\"\n",
    "\n",
    "# Add library to Python path\n",
    "sys.path.append(r'{}\\src'.format(INDIC_NLP_LIB_HOME))\n",
    "\n",
    "# Set environment variable for resources folder\n",
    "common.set_resources_path(INDIC_NLP_RESOURCES)"
   ]
  },
  {
   "cell_type": "code",
   "execution_count": 12,
   "metadata": {},
   "outputs": [],
   "source": [
    "from indicnlp.tokenize import sentence_tokenize"
   ]
  },
  {
   "cell_type": "code",
   "execution_count": 25,
   "metadata": {},
   "outputs": [],
   "source": [
    "indic_string='குழந்தைகளால் கண்டுபிடிக்கப்பட்ட கிர்க்கெட் விளையாட்டு, பல தலைமுறைகளுக்கு அவ்வாறே இருந்து வந்தது. 17 ஆம் நூற்றாண்டுக்கு முன்னர் பெரியவர்கள் இந்த ஆட்டத்தை ஆடினார்கள் என்று நம்மால் கேள்விப்பட முடியவில்லை. '"
   ]
  },
  {
   "cell_type": "markdown",
   "metadata": {},
   "source": [
    "# splitter"
   ]
  },
  {
   "cell_type": "code",
   "execution_count": 14,
   "metadata": {},
   "outputs": [
    {
     "name": "stdout",
     "output_type": "stream",
     "text": [
      "குழந்தைகளால் கண்டுபிடிக்கப்பட்ட கிர்க்கெட் விளையாட்டு, பல தலைமுறைகளுக்கு அவ்வாறே இருந்து வந்தது.\n",
      "17 ஆம் நூற்றாண்டுக்கு முன்னர் பெரியவர்கள் இந்த ஆட்டத்தை ஆடினார்கள் என்று நம்மால் கேள்விப்பட முடியவில்லை. .\n"
     ]
    }
   ],
   "source": [
    "from indicnlp.tokenize import sentence_tokenize\n",
    "\n",
    "indic_string=\"\"\"குழந்தைகளால் கண்டுபிடிக்கப்பட்ட கிர்க்கெட் விளையாட்டு, பல தலைமுறைகளுக்கு அவ்வாறே இருந்து வந்தது. 17 ஆம் நூற்றாண்டுக்கு முன்னர் பெரியவர்கள் இந்த ஆட்டத்தை ஆடினார்கள் என்று நம்மால் கேள்விப்பட முடியவில்லை. .\"\"\"\n",
    "sentences=sentence_tokenize.sentence_split(indic_string, lang='tam')\n",
    "for t in sentences:\n",
    "    print(t)"
   ]
  },
  {
   "cell_type": "markdown",
   "metadata": {},
   "source": [
    "# Tokenization"
   ]
  },
  {
   "cell_type": "code",
   "execution_count": 15,
   "metadata": {},
   "outputs": [
    {
     "name": "stdout",
     "output_type": "stream",
     "text": [
      "Input String: பவுல்ஸ் மிக பழமை வாய்ந்த ஆட்டம் என்பதால், கிரிக்கெட் பவுல்சில் இருந்து பிறந்திருக்கக் கூடும் என்று நம்பப்படுகிறது. ஒரு பந்து அதன் இலக்கை அடைவதற்கு முன்னர் மட்டையை வைத்திருக்கும் ஒருவன் அதனை தடுத்து இலக்கில் இருந்து தள்ளிப்போகும் அளவுக்கு அந்த பந்தை இந்த ஆட்டத்தில் அடிக்கவேண்டும்.\n",
      "Tokens: \n",
      "பவுல்ஸ்\n",
      "மிக\n",
      "பழமை\n",
      "வாய்ந்த\n",
      "ஆட்டம்\n",
      "என்பதால்\n",
      ",\n",
      "கிரிக்கெட்\n",
      "பவுல்சில்\n",
      "இருந்து\n",
      "பிறந்திருக்கக்\n",
      "கூடும்\n",
      "என்று\n",
      "நம்பப்படுகிறது\n",
      ".\n",
      "ஒரு\n",
      "பந்து\n",
      "அதன்\n",
      "இலக்கை\n",
      "அடைவதற்கு\n",
      "முன்னர்\n",
      "மட்டையை\n",
      "வைத்திருக்கும்\n",
      "ஒருவன்\n",
      "அதனை\n",
      "தடுத்து\n",
      "இலக்கில்\n",
      "இருந்து\n",
      "தள்ளிப்போகும்\n",
      "அளவுக்கு\n",
      "அந்த\n",
      "பந்தை\n",
      "இந்த\n",
      "ஆட்டத்தில்\n",
      "அடிக்கவேண்டும்\n",
      ".\n"
     ]
    }
   ],
   "source": [
    "from indicnlp.tokenize import indic_tokenize  \n",
    "\n",
    "indic_string='பவுல்ஸ் மிக பழமை வாய்ந்த ஆட்டம் என்பதால், கிரிக்கெட் பவுல்சில் இருந்து பிறந்திருக்கக் கூடும் என்று நம்பப்படுகிறது. ஒரு பந்து அதன் இலக்கை அடைவதற்கு முன்னர் மட்டையை வைத்திருக்கும் ஒருவன் அதனை தடுத்து இலக்கில் இருந்து தள்ளிப்போகும் அளவுக்கு அந்த பந்தை இந்த ஆட்டத்தில் அடிக்கவேண்டும்.'\n",
    "\n",
    "print('Input String: {}'.format(indic_string))\n",
    "print('Tokens: ')\n",
    "for t in indic_tokenize.trivial_tokenize(indic_string): \n",
    "    print(t)"
   ]
  },
  {
   "cell_type": "markdown",
   "metadata": {},
   "source": [
    "# Detokenization"
   ]
  },
  {
   "cell_type": "code",
   "execution_count": 16,
   "metadata": {},
   "outputs": [
    {
     "name": "stdout",
     "output_type": "stream",
     "text": [
      "Input String: \"  கிரிக்கெட்\" என்ற சொல்லுக்கு நிறைய மூலங்கள் இருப்பதாக கூறப்படுகிறது. பழமை வாய்ந்த ஆட்ட வரலாற்றில் அதாவது 1598 ஆம் ஆண்டில் இந்த விளையாட்டு,(கீழே பார்க்கவும் ) கிரேக்கேட் என்று அழைக்கப்பட்டது\"\n",
      "Detokenized String: \" கிரிக்கெட்\" என்ற சொல்லுக்கு நிறைய மூலங்கள் இருப்பதாக கூறப்படுகிறது. பழமை வாய்ந்த ஆட்ட வரலாற்றில் அதாவது 1598 ஆம் ஆண்டில் இந்த விளையாட்டு,(கீழே பார்க்கவும்) கிரேக்கேட் என்று அழைக்கப்பட்டது\"\n"
     ]
    }
   ],
   "source": [
    "from indicnlp.tokenize import indic_detokenize  \n",
    "indic_string='\"  கிரிக்கெட்\" என்ற சொல்லுக்கு நிறைய மூலங்கள் இருப்பதாக கூறப்படுகிறது. பழமை வாய்ந்த ஆட்ட வரலாற்றில் அதாவது 1598 ஆம் ஆண்டில் இந்த விளையாட்டு,(கீழே பார்க்கவும் ) கிரேக்கேட் என்று அழைக்கப்பட்டது\"'\n",
    "print('Input String: {}'.format(indic_string))\n",
    "print('Detokenized String: {}'.format(indic_detokenize.trivial_detokenize(indic_string,lang='ta')))"
   ]
  },
  {
   "cell_type": "markdown",
   "metadata": {},
   "source": [
    "# Script Conversion (Tamil - Malayalam)"
   ]
  },
  {
   "cell_type": "code",
   "execution_count": 24,
   "metadata": {},
   "outputs": [
    {
     "name": "stdout",
     "output_type": "stream",
     "text": [
      "ഇതറ്കു മുഩ്ഩര് ഏകപ്പട്ട കുറിപ്പുകള് ഇരുന്താലുമ്, 1598 ആമ് ആണ്ടു ഒരു പള്ളിയില് ഇരുന്ത ഒരു നിലത്തിഩ് മേല് ഇരുന്ത ഉരിമൈ പിരച്ച്ചഩൈയായാല് എഴുന്ത ചട്ട വഴക്കു മൂലമ് ഇന്ത ആട്ടത്തൈ പറ്റിയ കുറിപ്പു അതികാരപ്പൂര്വമാക മുതല് മുതലില് പതിവാകി ഉള്ളതു.\n"
     ]
    }
   ],
   "source": [
    "from indicnlp.transliterate.unicode_transliterate import UnicodeIndicTransliterator\n",
    "input_text='இதற்கு முன்னர் ஏகப்பட்ட குறிப்புகள் இருந்தாலும், 1598 ஆம் ஆண்டு ஒரு பள்ளியில் இருந்த ஒரு நிலத்தின் மேல் இருந்த உரிமை பிரச்ச்சனையாயால் எழுந்த சட்ட வழக்கு மூலம் இந்த ஆட்டத்தை பற்றிய குறிப்பு அதிகாரப்பூர்வமாக முதல் முதலில் பதிவாகி உள்ளது.'\n",
    "print(UnicodeIndicTransliterator.transliterate(input_text,\"ta\",\"ml\"))"
   ]
  },
  {
   "cell_type": "markdown",
   "metadata": {},
   "source": [
    "# Transliteration"
   ]
  },
  {
   "cell_type": "code",
   "execution_count": 22,
   "metadata": {},
   "outputs": [
    {
     "name": "stdout",
     "output_type": "stream",
     "text": [
      "ிிெ ெியவகா ிைாடபடு எபை ுிக ஆிேய உாு ோ வை ிைய ுிுக இுிறன. ஆா இத ஆட சமய தைவக வாரி ிைாடபடு எபை ொிற ுிுக இத ஆட ாவட ீிாக ிைாடபடு எபை ுிக முிறு.\n"
     ]
    }
   ],
   "source": [
    "from indicnlp.transliterate.unicode_transliterate import ItransTransliterator\n",
    "\n",
    "input_text='கிரிக்கெட் பெரியவர்களால் விளையாடப்பட்டது என்பதை குறிக்க ஆங்கிலேய உள்நாட்டுப் போர் வரை நிறைய குறிப்புகள் இருக்கின்றன. ஆனால் இந்த ஆட்டம் சமய தலைவர்கள் வட்டாரத்தில் விளையாடப்பட்டது என்பதை சொல்கின்ற குறிப்புகள் இந்த ஆட்டம் மாவட்ட ரீதியாக விளையாடப்பட்டது என்பதை குறிக்க மறுக்கிறது.'\n",
    "# Transliterate Tamil to Roman\n",
    "print(ItransTransliterator.to_itrans(input_text, 'ta'))"
   ]
  },
  {
   "cell_type": "code",
   "execution_count": null,
   "metadata": {},
   "outputs": [],
   "source": []
  }
 ],
 "metadata": {
  "kernelspec": {
   "display_name": "Python 3",
   "language": "python",
   "name": "python3"
  },
  "language_info": {
   "codemirror_mode": {
    "name": "ipython",
    "version": 3
   },
   "file_extension": ".py",
   "mimetype": "text/x-python",
   "name": "python",
   "nbconvert_exporter": "python",
   "pygments_lexer": "ipython3",
   "version": "3.7.3"
  }
 },
 "nbformat": 4,
 "nbformat_minor": 2
}
